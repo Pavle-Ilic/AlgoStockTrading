{
 "cells": [
  {
   "cell_type": "code",
   "execution_count": 1,
   "metadata": {
    "colab": {
     "base_uri": "https://localhost:8080/"
    },
    "id": "NojqrOPcDbn6",
    "outputId": "f137adb6-e881-4d34-a2ea-2643a37909fe"
   },
   "outputs": [
    {
     "name": "stdout",
     "output_type": "stream",
     "text": [
      "Requirement already satisfied: gym-anytrading in c:\\users\\pavle\\appdata\\local\\programs\\python\\python39\\lib\\site-packages (1.3.2)\n",
      "Requirement already satisfied: gym>=0.12.5 in c:\\users\\pavle\\appdata\\local\\programs\\python\\python39\\lib\\site-packages (from gym-anytrading) (0.26.2)\n",
      "Requirement already satisfied: numpy>=1.16.4 in c:\\users\\pavle\\appdata\\local\\programs\\python\\python39\\lib\\site-packages (from gym-anytrading) (1.23.5)\n",
      "Requirement already satisfied: pandas>=0.24.2 in c:\\users\\pavle\\appdata\\local\\programs\\python\\python39\\lib\\site-packages (from gym-anytrading) (2.0.2)\n",
      "Requirement already satisfied: matplotlib>=3.1.1 in c:\\users\\pavle\\appdata\\local\\programs\\python\\python39\\lib\\site-packages (from gym-anytrading) (3.7.1)\n",
      "Requirement already satisfied: cloudpickle>=1.2.0 in c:\\users\\pavle\\appdata\\local\\programs\\python\\python39\\lib\\site-packages (from gym>=0.12.5->gym-anytrading) (2.2.1)\n",
      "Requirement already satisfied: gym-notices>=0.0.4 in c:\\users\\pavle\\appdata\\local\\programs\\python\\python39\\lib\\site-packages (from gym>=0.12.5->gym-anytrading) (0.0.8)\n",
      "Requirement already satisfied: importlib-metadata>=4.8.0 in c:\\users\\pavle\\appdata\\roaming\\python\\python39\\site-packages (from gym>=0.12.5->gym-anytrading) (6.0.0)\n",
      "Requirement already satisfied: contourpy>=1.0.1 in c:\\users\\pavle\\appdata\\local\\programs\\python\\python39\\lib\\site-packages (from matplotlib>=3.1.1->gym-anytrading) (1.0.7)\n",
      "Requirement already satisfied: cycler>=0.10 in c:\\users\\pavle\\appdata\\local\\programs\\python\\python39\\lib\\site-packages (from matplotlib>=3.1.1->gym-anytrading) (0.11.0)\n",
      "Requirement already satisfied: fonttools>=4.22.0 in c:\\users\\pavle\\appdata\\local\\programs\\python\\python39\\lib\\site-packages (from matplotlib>=3.1.1->gym-anytrading) (4.39.4)\n",
      "Requirement already satisfied: kiwisolver>=1.0.1 in c:\\users\\pavle\\appdata\\local\\programs\\python\\python39\\lib\\site-packages (from matplotlib>=3.1.1->gym-anytrading) (1.4.4)\n",
      "Requirement already satisfied: packaging>=20.0 in c:\\users\\pavle\\appdata\\roaming\\python\\python39\\site-packages (from matplotlib>=3.1.1->gym-anytrading) (23.0)\n",
      "Requirement already satisfied: pillow>=6.2.0 in c:\\users\\pavle\\appdata\\local\\programs\\python\\python39\\lib\\site-packages (from matplotlib>=3.1.1->gym-anytrading) (9.5.0)\n",
      "Requirement already satisfied: pyparsing>=2.3.1 in c:\\users\\pavle\\appdata\\local\\programs\\python\\python39\\lib\\site-packages (from matplotlib>=3.1.1->gym-anytrading) (3.0.9)\n",
      "Requirement already satisfied: python-dateutil>=2.7 in c:\\users\\pavle\\appdata\\roaming\\python\\python39\\site-packages (from matplotlib>=3.1.1->gym-anytrading) (2.8.2)\n",
      "Requirement already satisfied: importlib-resources>=3.2.0 in c:\\users\\pavle\\appdata\\local\\programs\\python\\python39\\lib\\site-packages (from matplotlib>=3.1.1->gym-anytrading) (5.12.0)\n",
      "Requirement already satisfied: pytz>=2020.1 in c:\\users\\pavle\\appdata\\local\\programs\\python\\python39\\lib\\site-packages (from pandas>=0.24.2->gym-anytrading) (2023.3)\n",
      "Requirement already satisfied: tzdata>=2022.1 in c:\\users\\pavle\\appdata\\local\\programs\\python\\python39\\lib\\site-packages (from pandas>=0.24.2->gym-anytrading) (2023.3)\n",
      "Requirement already satisfied: zipp>=0.5 in c:\\users\\pavle\\appdata\\roaming\\python\\python39\\site-packages (from importlib-metadata>=4.8.0->gym>=0.12.5->gym-anytrading) (3.12.0)\n",
      "Requirement already satisfied: six>=1.5 in c:\\users\\pavle\\appdata\\roaming\\python\\python39\\site-packages (from python-dateutil>=2.7->matplotlib>=3.1.1->gym-anytrading) (1.16.0)\n",
      "Note: you may need to restart the kernel to use updated packages.\n"
     ]
    },
    {
     "name": "stderr",
     "output_type": "stream",
     "text": [
      "WARNING: Ignoring invalid distribution - (c:\\users\\pavle\\appdata\\local\\programs\\python\\python39\\lib\\site-packages)\n",
      "WARNING: Ignoring invalid distribution -rotobuf (c:\\users\\pavle\\appdata\\local\\programs\\python\\python39\\lib\\site-packages)\n",
      "WARNING: Ignoring invalid distribution -otobuf (c:\\users\\pavle\\appdata\\local\\programs\\python\\python39\\lib\\site-packages)\n",
      "WARNING: Ignoring invalid distribution - (c:\\users\\pavle\\appdata\\local\\programs\\python\\python39\\lib\\site-packages)\n",
      "WARNING: Ignoring invalid distribution -rotobuf (c:\\users\\pavle\\appdata\\local\\programs\\python\\python39\\lib\\site-packages)\n",
      "WARNING: Ignoring invalid distribution -otobuf (c:\\users\\pavle\\appdata\\local\\programs\\python\\python39\\lib\\site-packages)\n",
      "\n",
      "[notice] A new release of pip is available: 23.1.2 -> 23.2.1\n",
      "[notice] To update, run: python.exe -m pip install --upgrade pip\n"
     ]
    }
   ],
   "source": [
    "%pip install gym-anytrading\n",
    "import gym\n",
    "import gym_anytrading\n",
    "import matplotlib.pyplot as plt\n",
    "import pandas as pd\n",
    "import numpy as np"
   ]
  },
  {
   "cell_type": "code",
   "execution_count": 45,
   "metadata": {
    "colab": {
     "base_uri": "https://localhost:8080/",
     "height": 261
    },
    "id": "FMzUmLEDD4Ro",
    "outputId": "21206801-4078-4d00-b9eb-9fe77bb3dcb4"
   },
   "outputs": [
    {
     "data": {
      "text/html": [
       "<div>\n",
       "<style scoped>\n",
       "    .dataframe tbody tr th:only-of-type {\n",
       "        vertical-align: middle;\n",
       "    }\n",
       "\n",
       "    .dataframe tbody tr th {\n",
       "        vertical-align: top;\n",
       "    }\n",
       "\n",
       "    .dataframe thead th {\n",
       "        text-align: right;\n",
       "    }\n",
       "</style>\n",
       "<table border=\"1\" class=\"dataframe\">\n",
       "  <thead>\n",
       "    <tr style=\"text-align: right;\">\n",
       "      <th></th>\n",
       "      <th>Date</th>\n",
       "      <th>Open</th>\n",
       "      <th>High</th>\n",
       "      <th>Low</th>\n",
       "      <th>Close</th>\n",
       "      <th>Volume</th>\n",
       "    </tr>\n",
       "  </thead>\n",
       "  <tbody>\n",
       "    <tr>\n",
       "      <th>0</th>\n",
       "      <td>05/30/2023</td>\n",
       "      <td>405.95</td>\n",
       "      <td>419.38</td>\n",
       "      <td>399.49</td>\n",
       "      <td>401.11</td>\n",
       "      <td>92,340,109</td>\n",
       "    </tr>\n",
       "    <tr>\n",
       "      <th>1</th>\n",
       "      <td>05/26/2023</td>\n",
       "      <td>378.90</td>\n",
       "      <td>391.70</td>\n",
       "      <td>375.50</td>\n",
       "      <td>389.46</td>\n",
       "      <td>71,439,680</td>\n",
       "    </tr>\n",
       "    <tr>\n",
       "      <th>2</th>\n",
       "      <td>05/25/2023</td>\n",
       "      <td>385.23</td>\n",
       "      <td>394.80</td>\n",
       "      <td>366.35</td>\n",
       "      <td>379.80</td>\n",
       "      <td>154,391,109</td>\n",
       "    </tr>\n",
       "    <tr>\n",
       "      <th>3</th>\n",
       "      <td>05/24/2023</td>\n",
       "      <td>302.10</td>\n",
       "      <td>306.07</td>\n",
       "      <td>298.06</td>\n",
       "      <td>305.38</td>\n",
       "      <td>72,141,852</td>\n",
       "    </tr>\n",
       "    <tr>\n",
       "      <th>4</th>\n",
       "      <td>05/23/2023</td>\n",
       "      <td>310.00</td>\n",
       "      <td>312.88</td>\n",
       "      <td>306.31</td>\n",
       "      <td>306.88</td>\n",
       "      <td>35,625,328</td>\n",
       "    </tr>\n",
       "  </tbody>\n",
       "</table>\n",
       "</div>"
      ],
      "text/plain": [
       "         Date    Open    High     Low   Close       Volume\n",
       "0  05/30/2023  405.95  419.38  399.49  401.11   92,340,109\n",
       "1  05/26/2023  378.90  391.70  375.50  389.46   71,439,680\n",
       "2  05/25/2023  385.23  394.80  366.35  379.80  154,391,109\n",
       "3  05/24/2023  302.10  306.07  298.06  305.38   72,141,852\n",
       "4  05/23/2023  310.00  312.88  306.31  306.88   35,625,328"
      ]
     },
     "execution_count": 45,
     "metadata": {},
     "output_type": "execute_result"
    }
   ],
   "source": [
    "df = pd.read_csv('NVIDIA_Stock.csv')\n",
    "df.head()"
   ]
  },
  {
   "cell_type": "code",
   "execution_count": 46,
   "metadata": {
    "colab": {
     "base_uri": "https://localhost:8080/"
    },
    "id": "nELVvAB1HNYM",
    "outputId": "5e2ce8dc-399a-458a-c180-89fd6206e18e"
   },
   "outputs": [
    {
     "data": {
      "text/plain": [
       "Date       object\n",
       "Open      float64\n",
       "High      float64\n",
       "Low       float64\n",
       "Close     float64\n",
       "Volume     object\n",
       "dtype: object"
      ]
     },
     "execution_count": 46,
     "metadata": {},
     "output_type": "execute_result"
    }
   ],
   "source": [
    "df.dtypes"
   ]
  },
  {
   "cell_type": "code",
   "execution_count": 47,
   "metadata": {
    "colab": {
     "base_uri": "https://localhost:8080/"
    },
    "id": "laGpwSjVHt0W",
    "outputId": "01bc0818-6b1f-40d3-b0ed-aaac2fef395c"
   },
   "outputs": [
    {
     "data": {
      "text/plain": [
       "Open      float64\n",
       "High      float64\n",
       "Low       float64\n",
       "Close     float64\n",
       "Volume     object\n",
       "dtype: object"
      ]
     },
     "execution_count": 47,
     "metadata": {},
     "output_type": "execute_result"
    }
   ],
   "source": [
    "df['Date'] = pd.to_datetime(df ['Date'])\n",
    "df.set_index('Date', inplace=True)\n",
    "df.dtypes"
   ]
  },
  {
   "cell_type": "code",
   "execution_count": 48,
   "metadata": {
    "colab": {
     "base_uri": "https://localhost:8080/"
    },
    "id": "6hzz1CPyIHmO",
    "outputId": "694fc7e0-0250-41e6-e679-318ae4e489ec"
   },
   "outputs": [
    {
     "data": {
      "text/plain": [
       "Open      float64\n",
       "High      float64\n",
       "Low       float64\n",
       "Close     float64\n",
       "Volume    float64\n",
       "dtype: object"
      ]
     },
     "execution_count": 48,
     "metadata": {},
     "output_type": "execute_result"
    }
   ],
   "source": [
    "df.sort_values('Date', ascending = True, inplace = True)\n",
    "df['Volume'] = df['Volume'].apply(lambda x: float(x.replace(\",\", \"\")))\n",
    "df.dtypes"
   ]
  },
  {
   "cell_type": "code",
   "execution_count": 49,
   "metadata": {
    "colab": {
     "base_uri": "https://localhost:8080/",
     "height": 237
    },
    "id": "N9oogZXGKR9X",
    "outputId": "518a8321-7bd7-43a8-c42b-d523c1651ebd"
   },
   "outputs": [
    {
     "data": {
      "text/html": [
       "<div>\n",
       "<style scoped>\n",
       "    .dataframe tbody tr th:only-of-type {\n",
       "        vertical-align: middle;\n",
       "    }\n",
       "\n",
       "    .dataframe tbody tr th {\n",
       "        vertical-align: top;\n",
       "    }\n",
       "\n",
       "    .dataframe thead th {\n",
       "        text-align: right;\n",
       "    }\n",
       "</style>\n",
       "<table border=\"1\" class=\"dataframe\">\n",
       "  <thead>\n",
       "    <tr style=\"text-align: right;\">\n",
       "      <th></th>\n",
       "      <th>Open</th>\n",
       "      <th>High</th>\n",
       "      <th>Low</th>\n",
       "      <th>Close</th>\n",
       "      <th>Volume</th>\n",
       "    </tr>\n",
       "    <tr>\n",
       "      <th>Date</th>\n",
       "      <th></th>\n",
       "      <th></th>\n",
       "      <th></th>\n",
       "      <th></th>\n",
       "      <th></th>\n",
       "    </tr>\n",
       "  </thead>\n",
       "  <tbody>\n",
       "    <tr>\n",
       "      <th>2022-05-31</th>\n",
       "      <td>189.80</td>\n",
       "      <td>192.00</td>\n",
       "      <td>183.50</td>\n",
       "      <td>186.72</td>\n",
       "      <td>66409953.0</td>\n",
       "    </tr>\n",
       "    <tr>\n",
       "      <th>2022-06-01</th>\n",
       "      <td>187.24</td>\n",
       "      <td>190.53</td>\n",
       "      <td>181.22</td>\n",
       "      <td>183.20</td>\n",
       "      <td>54451391.0</td>\n",
       "    </tr>\n",
       "    <tr>\n",
       "      <th>2022-06-02</th>\n",
       "      <td>182.92</td>\n",
       "      <td>196.19</td>\n",
       "      <td>181.98</td>\n",
       "      <td>195.92</td>\n",
       "      <td>64865578.0</td>\n",
       "    </tr>\n",
       "    <tr>\n",
       "      <th>2022-06-03</th>\n",
       "      <td>190.82</td>\n",
       "      <td>193.32</td>\n",
       "      <td>185.22</td>\n",
       "      <td>187.20</td>\n",
       "      <td>59877871.0</td>\n",
       "    </tr>\n",
       "    <tr>\n",
       "      <th>2022-06-06</th>\n",
       "      <td>191.39</td>\n",
       "      <td>193.37</td>\n",
       "      <td>185.64</td>\n",
       "      <td>187.86</td>\n",
       "      <td>42240621.0</td>\n",
       "    </tr>\n",
       "  </tbody>\n",
       "</table>\n",
       "</div>"
      ],
      "text/plain": [
       "              Open    High     Low   Close      Volume\n",
       "Date                                                  \n",
       "2022-05-31  189.80  192.00  183.50  186.72  66409953.0\n",
       "2022-06-01  187.24  190.53  181.22  183.20  54451391.0\n",
       "2022-06-02  182.92  196.19  181.98  195.92  64865578.0\n",
       "2022-06-03  190.82  193.32  185.22  187.20  59877871.0\n",
       "2022-06-06  191.39  193.37  185.64  187.86  42240621.0"
      ]
     },
     "execution_count": 49,
     "metadata": {},
     "output_type": "execute_result"
    }
   ],
   "source": [
    "df.head()"
   ]
  },
  {
   "cell_type": "code",
   "execution_count": 20,
   "metadata": {
    "colab": {
     "base_uri": "https://localhost:8080/"
    },
    "id": "D-iDUMsoJt5_",
    "outputId": "2b5cbe06-6747-4f0c-8285-1622b82d74cf"
   },
   "outputs": [
    {
     "name": "stderr",
     "output_type": "stream",
     "text": [
      "c:\\Users\\pavle\\AppData\\Local\\Programs\\Python\\Python39\\lib\\site-packages\\gym\\utils\\passive_env_checker.py:31: UserWarning: \u001b[33mWARN: A Box observation space has an unconventional shape (neither an image, nor a 1D vector). We recommend flattening the observation to have only a 1D vector or use a custom policy to properly process the data. Actual observation shape: (10, 2)\u001b[0m\n",
      "  logger.warn(\n"
     ]
    }
   ],
   "source": [
    "env = gym.make('stocks-v0', df = df, frame_bound = (10, 190), window_size = 10)  "
   ]
  },
  {
   "cell_type": "code",
   "execution_count": 21,
   "metadata": {
    "colab": {
     "base_uri": "https://localhost:8080/",
     "height": 706
    },
    "id": "C_GYh_UyNsKI",
    "outputId": "96dbcde9-dbe6-4937-efb7-592897567e05"
   },
   "outputs": [
    {
     "name": "stderr",
     "output_type": "stream",
     "text": [
      "c:\\Users\\pavle\\AppData\\Local\\Programs\\Python\\Python39\\lib\\site-packages\\gym\\utils\\passive_env_checker.py:174: UserWarning: \u001b[33mWARN: Future gym versions will require that `Env.reset` can be passed a `seed` instead of using `Env.seed` for resetting the environment random number generator.\u001b[0m\n",
      "  logger.warn(\n",
      "c:\\Users\\pavle\\AppData\\Local\\Programs\\Python\\Python39\\lib\\site-packages\\gym\\utils\\passive_env_checker.py:187: UserWarning: \u001b[33mWARN: Future gym versions will require that `Env.reset` can be passed `options` to allow the environment initialisation to be passed additional information.\u001b[0m\n",
      "  logger.warn(\n",
      "c:\\Users\\pavle\\AppData\\Local\\Programs\\Python\\Python39\\lib\\site-packages\\gym\\utils\\passive_env_checker.py:195: UserWarning: \u001b[33mWARN: The result returned by `env.reset()` was not a tuple of the form `(obs, info)`, where `obs` is a observation and `info` is a dictionary containing additional information. Actual type: `<class 'numpy.ndarray'>`\u001b[0m\n",
      "  logger.warn(\n",
      "c:\\Users\\pavle\\AppData\\Local\\Programs\\Python\\Python39\\lib\\site-packages\\gym\\utils\\passive_env_checker.py:272: UserWarning: \u001b[33mWARN: No render modes was declared in the environment (env.metadata['render_modes'] is None or not defined), you may have trouble when calling `.render()`.\u001b[0m\n",
      "  logger.warn(\n"
     ]
    },
    {
     "data": {
      "image/png": "[encoded data removed]",
      "text/plain": [
       "<Figure size 640x480 with 1 Axes>"
      ]
     },
     "metadata": {},
     "output_type": "display_data"
    }
   ],
   "source": [
    "env.reset()\n",
    "env.render()"
   ]
  },
  {
   "attachments": {},
   "cell_type": "markdown",
   "metadata": {
    "id": "73rwCCqpPpPU"
   },
   "source": [
    "# Random Trading"
   ]
  },
  {
   "cell_type": "code",
   "execution_count": 10,
   "metadata": {
    "colab": {
     "base_uri": "https://localhost:8080/",
     "height": 550
    },
    "id": "H_how4tlOwGM",
    "outputId": "8990e375-577d-442d-f988-511032f644d8"
   },
   "outputs": [
    {
     "name": "stdout",
     "output_type": "stream",
     "text": [
      "info: {'total_reward': 83.77000000000004, 'total_profit': 0.7058663137489352, 'position': 0}\n"
     ]
    },
    {
     "name": "stderr",
     "output_type": "stream",
     "text": [
      "c:\\Users\\pavle\\AppData\\Local\\Programs\\Python\\Python39\\lib\\site-packages\\gym\\utils\\passive_env_checker.py:219: DeprecationWarning: \u001b[33mWARN: Core environment is written in old step API which returns one bool instead of two. It is recommended to rewrite the environment with new step API. \u001b[0m\n",
      "  logger.deprecation(\n"
     ]
    },
    {
     "data": {
      "image/png": "[encoded data removed]",
      "text/plain": [
       "<Figure size 640x480 with 1 Axes>"
      ]
     },
     "metadata": {},
     "output_type": "display_data"
    }
   ],
   "source": [
    "obs = env.reset()\n",
    "while True:\n",
    "  action = env.action_space.sample()\n",
    "  observation, reward, done, info = env.step(action)\n",
    "  if done:\n",
    "    print(f\"info: {info}\")\n",
    "    break\n",
    "plt.cla()\n",
    "env.render_all()\n",
    "plt.show()"
   ]
  },
  {
   "cell_type": "code",
   "execution_count": 11,
   "metadata": {
    "colab": {
     "base_uri": "https://localhost:8080/"
    },
    "id": "6ZLzXJ8JSWaJ",
    "outputId": "12655abc-e026-4f00-af7c-d9fd73d94731"
   },
   "outputs": [
    {
     "name": "stdout",
     "output_type": "stream",
     "text": [
      "max_possible_profit: 16.872376365128066\n"
     ]
    }
   ],
   "source": [
    "print(\"max_possible_profit:\", env.max_possible_profit())"
   ]
  },
  {
   "attachments": {},
   "cell_type": "markdown",
   "metadata": {
    "id": "w8_rjshTPyRb"
   },
   "source": [
    "# Building RL Network's"
   ]
  },
  {
   "cell_type": "code",
   "execution_count": 12,
   "metadata": {
    "colab": {
     "base_uri": "https://localhost:8080/"
    },
    "id": "m2uFvIVAQSWJ",
    "outputId": "945c1bd5-73c8-40fa-f7c1-9419f601b313"
   },
   "outputs": [
    {
     "data": {
      "text/plain": [
       "Discrete(2)"
      ]
     },
     "execution_count": 12,
     "metadata": {},
     "output_type": "execute_result"
    }
   ],
   "source": [
    "env.action_space"
   ]
  },
  {
   "cell_type": "code",
   "execution_count": 13,
   "metadata": {
    "colab": {
     "base_uri": "https://localhost:8080/"
    },
    "id": "MOSazYHe8LJN",
    "outputId": "8d6586d0-60fd-429a-c56d-566a249102f0"
   },
   "outputs": [
    {
     "name": "stdout",
     "output_type": "stream",
     "text": [
      "10 2\n"
     ]
    }
   ],
   "source": [
    "obs_space = env.observation_space.shape[0]\n",
    "act_space = env.action_space.n\n",
    "print(obs_space, act_space)"
   ]
  },
  {
   "cell_type": "code",
   "execution_count": 6,
   "metadata": {
    "colab": {
     "base_uri": "https://localhost:8080/"
    },
    "id": "d8LV2xvgbAFD",
    "outputId": "58ca1846-2fcd-4e01-c3d9-c1e38ae10c7f"
   },
   "outputs": [
    {
     "name": "stdout",
     "output_type": "stream",
     "text": [
      "Collecting git+https://github.com/DLR-RM/stable-baselines3\n",
      "  Cloning https://github.com/DLR-RM/stable-baselines3 to c:\\users\\pavle\\appdata\\local\\temp\\pip-req-build-x06swhvd\n",
      "  Resolved https://github.com/DLR-RM/stable-baselines3 to commit ba77dd7c6180c0ec9a47dfa98291c2103e6750df\n",
      "  Installing build dependencies: started\n",
      "  Installing build dependencies: finished with status 'done'\n",
      "  Getting requirements to build wheel: started\n",
      "  Getting requirements to build wheel: finished with status 'done'\n",
      "  Preparing metadata (pyproject.toml): started\n",
      "  Preparing metadata (pyproject.toml): finished with status 'done'\n",
      "Requirement already satisfied: gymnasium<0.30,>=0.28.1 in c:\\users\\pavle\\appdata\\local\\programs\\python\\python39\\lib\\site-packages (from stable-baselines3==2.1.0a3) (0.28.1)\n",
      "Requirement already satisfied: numpy>=1.20 in c:\\users\\pavle\\appdata\\local\\programs\\python\\python39\\lib\\site-packages (from stable-baselines3==2.1.0a3) (1.23.5)\n",
      "Requirement already satisfied: torch>=1.13 in c:\\users\\pavle\\appdata\\local\\programs\\python\\python39\\lib\\site-packages (from stable-baselines3==2.1.0a3) (2.0.1)\n",
      "Requirement already satisfied: cloudpickle in c:\\users\\pavle\\appdata\\local\\programs\\python\\python39\\lib\\site-packages (from stable-baselines3==2.1.0a3) (2.2.1)\n",
      "Requirement already satisfied: pandas in c:\\users\\pavle\\appdata\\local\\programs\\python\\python39\\lib\\site-packages (from stable-baselines3==2.1.0a3) (2.0.2)\n",
      "Requirement already satisfied: matplotlib in c:\\users\\pavle\\appdata\\local\\programs\\python\\python39\\lib\\site-packages (from stable-baselines3==2.1.0a3) (3.7.1)\n",
      "Requirement already satisfied: jax-jumpy>=1.0.0 in c:\\users\\pavle\\appdata\\local\\programs\\python\\python39\\lib\\site-packages (from gymnasium<0.30,>=0.28.1->stable-baselines3==2.1.0a3) (1.0.0)\n",
      "Requirement already satisfied: typing-extensions>=4.3.0 in c:\\users\\pavle\\appdata\\local\\programs\\python\\python39\\lib\\site-packages (from gymnasium<0.30,>=0.28.1->stable-baselines3==2.1.0a3) (4.6.3)\n",
      "Requirement already satisfied: farama-notifications>=0.0.1 in c:\\users\\pavle\\appdata\\local\\programs\\python\\python39\\lib\\site-packages (from gymnasium<0.30,>=0.28.1->stable-baselines3==2.1.0a3) (0.0.4)\n",
      "Requirement already satisfied: importlib-metadata>=4.8.0 in c:\\users\\pavle\\appdata\\roaming\\python\\python39\\site-packages (from gymnasium<0.30,>=0.28.1->stable-baselines3==2.1.0a3) (6.0.0)\n",
      "Requirement already satisfied: filelock in c:\\users\\pavle\\appdata\\local\\programs\\python\\python39\\lib\\site-packages (from torch>=1.13->stable-baselines3==2.1.0a3) (3.12.0)\n",
      "Requirement already satisfied: sympy in c:\\users\\pavle\\appdata\\local\\programs\\python\\python39\\lib\\site-packages (from torch>=1.13->stable-baselines3==2.1.0a3) (1.12)\n",
      "Requirement already satisfied: networkx in c:\\users\\pavle\\appdata\\local\\programs\\python\\python39\\lib\\site-packages (from torch>=1.13->stable-baselines3==2.1.0a3) (3.1)\n",
      "Requirement already satisfied: jinja2 in c:\\users\\pavle\\appdata\\local\\programs\\python\\python39\\lib\\site-packages (from torch>=1.13->stable-baselines3==2.1.0a3) (3.1.2)\n",
      "Requirement already satisfied: contourpy>=1.0.1 in c:\\users\\pavle\\appdata\\local\\programs\\python\\python39\\lib\\site-packages (from matplotlib->stable-baselines3==2.1.0a3) (1.0.7)\n",
      "Requirement already satisfied: cycler>=0.10 in c:\\users\\pavle\\appdata\\local\\programs\\python\\python39\\lib\\site-packages (from matplotlib->stable-baselines3==2.1.0a3) (0.11.0)\n",
      "Requirement already satisfied: fonttools>=4.22.0 in c:\\users\\pavle\\appdata\\local\\programs\\python\\python39\\lib\\site-packages (from matplotlib->stable-baselines3==2.1.0a3) (4.39.4)\n",
      "Requirement already satisfied: kiwisolver>=1.0.1 in c:\\users\\pavle\\appdata\\local\\programs\\python\\python39\\lib\\site-packages (from matplotlib->stable-baselines3==2.1.0a3) (1.4.4)\n",
      "Requirement already satisfied: packaging>=20.0 in c:\\users\\pavle\\appdata\\roaming\\python\\python39\\site-packages (from matplotlib->stable-baselines3==2.1.0a3) (23.0)\n",
      "Requirement already satisfied: pillow>=6.2.0 in c:\\users\\pavle\\appdata\\local\\programs\\python\\python39\\lib\\site-packages (from matplotlib->stable-baselines3==2.1.0a3) (9.5.0)\n",
      "Requirement already satisfied: pyparsing>=2.3.1 in c:\\users\\pavle\\appdata\\local\\programs\\python\\python39\\lib\\site-packages (from matplotlib->stable-baselines3==2.1.0a3) (3.0.9)\n",
      "Requirement already satisfied: python-dateutil>=2.7 in c:\\users\\pavle\\appdata\\roaming\\python\\python39\\site-packages (from matplotlib->stable-baselines3==2.1.0a3) (2.8.2)\n",
      "Requirement already satisfied: importlib-resources>=3.2.0 in c:\\users\\pavle\\appdata\\local\\programs\\python\\python39\\lib\\site-packages (from matplotlib->stable-baselines3==2.1.0a3) (5.12.0)\n",
      "Requirement already satisfied: pytz>=2020.1 in c:\\users\\pavle\\appdata\\local\\programs\\python\\python39\\lib\\site-packages (from pandas->stable-baselines3==2.1.0a3) (2023.3)\n",
      "Requirement already satisfied: tzdata>=2022.1 in c:\\users\\pavle\\appdata\\local\\programs\\python\\python39\\lib\\site-packages (from pandas->stable-baselines3==2.1.0a3) (2023.3)\n",
      "Requirement already satisfied: zipp>=0.5 in c:\\users\\pavle\\appdata\\roaming\\python\\python39\\site-packages (from importlib-metadata>=4.8.0->gymnasium<0.30,>=0.28.1->stable-baselines3==2.1.0a3) (3.12.0)\n",
      "Requirement already satisfied: six>=1.5 in c:\\users\\pavle\\appdata\\roaming\\python\\python39\\site-packages (from python-dateutil>=2.7->matplotlib->stable-baselines3==2.1.0a3) (1.16.0)\n",
      "Requirement already satisfied: MarkupSafe>=2.0 in c:\\users\\pavle\\appdata\\local\\programs\\python\\python39\\lib\\site-packages (from jinja2->torch>=1.13->stable-baselines3==2.1.0a3) (2.1.2)\n",
      "Requirement already satisfied: mpmath>=0.19 in c:\\users\\pavle\\appdata\\local\\programs\\python\\python39\\lib\\site-packages (from sympy->torch>=1.13->stable-baselines3==2.1.0a3) (1.3.0)\n",
      "Building wheels for collected packages: stable-baselines3\n",
      "  Building wheel for stable-baselines3 (pyproject.toml): started\n",
      "  Building wheel for stable-baselines3 (pyproject.toml): finished with status 'done'\n",
      "  Created wheel for stable-baselines3: filename=stable_baselines3-2.1.0a3-py3-none-any.whl size=179808 sha256=8f7f65c5f3f2f1181cbf9c1fea50f2a9163aa3fee790da493132981a4ac17ac1\n",
      "  Stored in directory: C:\\Users\\pavle\\AppData\\Local\\Temp\\pip-ephem-wheel-cache-gvjbr0bn\\wheels\\17\\9c\\c7\\7e4f0c247d9fcdf3b7bdc5606f9a7f691507cc2a068d1509d2\n",
      "Successfully built stable-baselines3\n",
      "Installing collected packages: stable-baselines3\n",
      "  Attempting uninstall: stable-baselines3\n",
      "    Found existing installation: stable-baselines3 2.1.0a0\n",
      "    Uninstalling stable-baselines3-2.1.0a0:\n",
      "      Successfully uninstalled stable-baselines3-2.1.0a0\n",
      "Successfully installed stable-baselines3-2.1.0a3\n",
      "Note: you may need to restart the kernel to use updated packages.\n"
     ]
    },
    {
     "name": "stderr",
     "output_type": "stream",
     "text": [
      "WARNING: Ignoring invalid distribution - (c:\\users\\pavle\\appdata\\local\\programs\\python\\python39\\lib\\site-packages)\n",
      "WARNING: Ignoring invalid distribution -rotobuf (c:\\users\\pavle\\appdata\\local\\programs\\python\\python39\\lib\\site-packages)\n",
      "WARNING: Ignoring invalid distribution -otobuf (c:\\users\\pavle\\appdata\\local\\programs\\python\\python39\\lib\\site-packages)\n",
      "  Running command git clone --filter=blob:none --quiet https://github.com/DLR-RM/stable-baselines3 'C:\\Users\\pavle\\AppData\\Local\\Temp\\pip-req-build-x06swhvd'\n",
      "WARNING: Ignoring invalid distribution - (c:\\users\\pavle\\appdata\\local\\programs\\python\\python39\\lib\\site-packages)\n",
      "WARNING: Ignoring invalid distribution -rotobuf (c:\\users\\pavle\\appdata\\local\\programs\\python\\python39\\lib\\site-packages)\n",
      "WARNING: Ignoring invalid distribution -otobuf (c:\\users\\pavle\\appdata\\local\\programs\\python\\python39\\lib\\site-packages)\n",
      "\n",
      "[notice] A new release of pip is available: 23.1.2 -> 23.2.1\n",
      "[notice] To update, run: python.exe -m pip install --upgrade pip\n"
     ]
    }
   ],
   "source": [
    "%pip install git+https://github.com/DLR-RM/stable-baselines3"
   ]
  },
  {
   "cell_type": "code",
   "execution_count": 7,
   "metadata": {
    "colab": {
     "base_uri": "https://localhost:8080/"
    },
    "id": "JefAVmhbbo1W",
    "outputId": "ecc7b062-cc95-4d14-cd57-f106a8183f7c"
   },
   "outputs": [
    {
     "name": "stdout",
     "output_type": "stream",
     "text": [
      "Note: you may need to restart the kernel to use updated packages.\n"
     ]
    },
    {
     "name": "stderr",
     "output_type": "stream",
     "text": [
      "WARNING: Ignoring invalid distribution - (c:\\users\\pavle\\appdata\\local\\programs\\python\\python39\\lib\\site-packages)\n",
      "WARNING: Ignoring invalid distribution -rotobuf (c:\\users\\pavle\\appdata\\local\\programs\\python\\python39\\lib\\site-packages)\n",
      "WARNING: Ignoring invalid distribution -otobuf (c:\\users\\pavle\\appdata\\local\\programs\\python\\python39\\lib\\site-packages)\n",
      "WARNING: Ignoring invalid distribution - (c:\\users\\pavle\\appdata\\local\\programs\\python\\python39\\lib\\site-packages)\n",
      "WARNING: Ignoring invalid distribution -rotobuf (c:\\users\\pavle\\appdata\\local\\programs\\python\\python39\\lib\\site-packages)\n",
      "WARNING: Ignoring invalid distribution -otobuf (c:\\users\\pavle\\appdata\\local\\programs\\python\\python39\\lib\\site-packages)\n",
      "\n",
      "[notice] A new release of pip is available: 23.1.2 -> 23.2.1\n",
      "[notice] To update, run: python.exe -m pip install --upgrade pip\n"
     ]
    },
    {
     "name": "stdout",
     "output_type": "stream",
     "text": [
      "Requirement already satisfied: finta in c:\\users\\pavle\\appdata\\local\\programs\\python\\python39\\lib\\site-packages (1.3)\n",
      "Requirement already satisfied: numpy in c:\\users\\pavle\\appdata\\local\\programs\\python\\python39\\lib\\site-packages (from finta) (1.23.5)\n",
      "Requirement already satisfied: pandas in c:\\users\\pavle\\appdata\\local\\programs\\python\\python39\\lib\\site-packages (from finta) (2.0.2)\n",
      "Requirement already satisfied: python-dateutil>=2.8.2 in c:\\users\\pavle\\appdata\\roaming\\python\\python39\\site-packages (from pandas->finta) (2.8.2)\n",
      "Requirement already satisfied: pytz>=2020.1 in c:\\users\\pavle\\appdata\\local\\programs\\python\\python39\\lib\\site-packages (from pandas->finta) (2023.3)\n",
      "Requirement already satisfied: tzdata>=2022.1 in c:\\users\\pavle\\appdata\\local\\programs\\python\\python39\\lib\\site-packages (from pandas->finta) (2023.3)\n",
      "Requirement already satisfied: six>=1.5 in c:\\users\\pavle\\appdata\\roaming\\python\\python39\\site-packages (from python-dateutil>=2.8.2->pandas->finta) (1.16.0)\n",
      "Note: you may need to restart the kernel to use updated packages.\n"
     ]
    },
    {
     "name": "stderr",
     "output_type": "stream",
     "text": [
      "WARNING: Ignoring invalid distribution - (c:\\users\\pavle\\appdata\\local\\programs\\python\\python39\\lib\\site-packages)\n",
      "WARNING: Ignoring invalid distribution -rotobuf (c:\\users\\pavle\\appdata\\local\\programs\\python\\python39\\lib\\site-packages)\n",
      "WARNING: Ignoring invalid distribution -otobuf (c:\\users\\pavle\\appdata\\local\\programs\\python\\python39\\lib\\site-packages)\n",
      "WARNING: Ignoring invalid distribution - (c:\\users\\pavle\\appdata\\local\\programs\\python\\python39\\lib\\site-packages)\n",
      "WARNING: Ignoring invalid distribution -rotobuf (c:\\users\\pavle\\appdata\\local\\programs\\python\\python39\\lib\\site-packages)\n",
      "WARNING: Ignoring invalid distribution -otobuf (c:\\users\\pavle\\appdata\\local\\programs\\python\\python39\\lib\\site-packages)\n",
      "\n",
      "[notice] A new release of pip is available: 23.1.2 -> 23.2.1\n",
      "[notice] To update, run: python.exe -m pip install --upgrade pip\n"
     ]
    }
   ],
   "source": [
    "from stable_baselines3.common.vec_env import DummyVecEnv\n",
    "from stable_baselines3 import DQN\n",
    "from stable_baselines3 import A2C\n",
    "from stable_baselines3 import PPO\n",
    "%pip install shimmy>=0.2.1\n",
    "%pip install finta\n",
    "from gym_anytrading.envs import StocksEnv\n",
    "from finta import TA"
   ]
  },
  {
   "attachments": {},
   "cell_type": "markdown",
   "metadata": {
    "id": "Vrl08VQIqDX9"
   },
   "source": [
    "Custom Indicators"
   ]
  },
  {
   "cell_type": "code",
   "execution_count": 50,
   "metadata": {
    "colab": {
     "base_uri": "https://localhost:8080/"
    },
    "id": "cge6oZsOqE5e",
    "outputId": "8f920028-f4a6-42d3-aae9-15a7b96dd308"
   },
   "outputs": [],
   "source": [
    "df[\"RSI\"] = TA.RSI(df)\n",
    "df[\"SMA\"] = TA.SMA(df, 10)\n",
    "df[\"OBV\"] = TA.OBV(df)"
   ]
  },
  {
   "cell_type": "code",
   "execution_count": 51,
   "metadata": {
    "colab": {
     "base_uri": "https://localhost:8080/"
    },
    "id": "0hkY7MzruKz4",
    "outputId": "67b8c0c9-c6eb-4500-c00b-f25aebd49606"
   },
   "outputs": [],
   "source": [
    "df.fillna(0, inplace  = True)"
   ]
  },
  {
   "cell_type": "code",
   "execution_count": 52,
   "metadata": {
    "colab": {
     "base_uri": "https://localhost:8080/",
     "height": 708
    },
    "id": "lWKH_U2mtroV",
    "outputId": "a17ffc4e-090a-4195-e95f-d0258ff11ddb"
   },
   "outputs": [
    {
     "data": {
      "text/html": [
       "<div>\n",
       "<style scoped>\n",
       "    .dataframe tbody tr th:only-of-type {\n",
       "        vertical-align: middle;\n",
       "    }\n",
       "\n",
       "    .dataframe tbody tr th {\n",
       "        vertical-align: top;\n",
       "    }\n",
       "\n",
       "    .dataframe thead th {\n",
       "        text-align: right;\n",
       "    }\n",
       "</style>\n",
       "<table border=\"1\" class=\"dataframe\">\n",
       "  <thead>\n",
       "    <tr style=\"text-align: right;\">\n",
       "      <th></th>\n",
       "      <th>Open</th>\n",
       "      <th>High</th>\n",
       "      <th>Low</th>\n",
       "      <th>Close</th>\n",
       "      <th>Volume</th>\n",
       "      <th>RSI</th>\n",
       "      <th>SMA</th>\n",
       "      <th>OBV</th>\n",
       "    </tr>\n",
       "    <tr>\n",
       "      <th>Date</th>\n",
       "      <th></th>\n",
       "      <th></th>\n",
       "      <th></th>\n",
       "      <th></th>\n",
       "      <th></th>\n",
       "      <th></th>\n",
       "      <th></th>\n",
       "      <th></th>\n",
       "    </tr>\n",
       "  </thead>\n",
       "  <tbody>\n",
       "    <tr>\n",
       "      <th>2022-05-31</th>\n",
       "      <td>189.80</td>\n",
       "      <td>192.00</td>\n",
       "      <td>183.50</td>\n",
       "      <td>186.72</td>\n",
       "      <td>66409953.0</td>\n",
       "      <td>0.000000</td>\n",
       "      <td>0.000</td>\n",
       "      <td>0.0</td>\n",
       "    </tr>\n",
       "    <tr>\n",
       "      <th>2022-06-01</th>\n",
       "      <td>187.24</td>\n",
       "      <td>190.53</td>\n",
       "      <td>181.22</td>\n",
       "      <td>183.20</td>\n",
       "      <td>54451391.0</td>\n",
       "      <td>0.000000</td>\n",
       "      <td>0.000</td>\n",
       "      <td>-54451391.0</td>\n",
       "    </tr>\n",
       "    <tr>\n",
       "      <th>2022-06-02</th>\n",
       "      <td>182.92</td>\n",
       "      <td>196.19</td>\n",
       "      <td>181.98</td>\n",
       "      <td>195.92</td>\n",
       "      <td>64865578.0</td>\n",
       "      <td>79.556826</td>\n",
       "      <td>0.000</td>\n",
       "      <td>10414187.0</td>\n",
       "    </tr>\n",
       "    <tr>\n",
       "      <th>2022-06-03</th>\n",
       "      <td>190.82</td>\n",
       "      <td>193.32</td>\n",
       "      <td>185.22</td>\n",
       "      <td>187.20</td>\n",
       "      <td>59877871.0</td>\n",
       "      <td>50.119505</td>\n",
       "      <td>0.000</td>\n",
       "      <td>-49463684.0</td>\n",
       "    </tr>\n",
       "    <tr>\n",
       "      <th>2022-06-06</th>\n",
       "      <td>191.39</td>\n",
       "      <td>193.37</td>\n",
       "      <td>185.64</td>\n",
       "      <td>187.86</td>\n",
       "      <td>42240621.0</td>\n",
       "      <td>51.579862</td>\n",
       "      <td>0.000</td>\n",
       "      <td>-7223063.0</td>\n",
       "    </tr>\n",
       "    <tr>\n",
       "      <th>2022-06-07</th>\n",
       "      <td>184.72</td>\n",
       "      <td>190.00</td>\n",
       "      <td>181.88</td>\n",
       "      <td>189.26</td>\n",
       "      <td>38891406.0</td>\n",
       "      <td>54.615203</td>\n",
       "      <td>0.000</td>\n",
       "      <td>31668343.0</td>\n",
       "    </tr>\n",
       "    <tr>\n",
       "      <th>2022-06-08</th>\n",
       "      <td>187.99</td>\n",
       "      <td>191.80</td>\n",
       "      <td>185.35</td>\n",
       "      <td>186.48</td>\n",
       "      <td>36325246.0</td>\n",
       "      <td>48.159221</td>\n",
       "      <td>0.000</td>\n",
       "      <td>-4656903.0</td>\n",
       "    </tr>\n",
       "    <tr>\n",
       "      <th>2022-06-09</th>\n",
       "      <td>184.81</td>\n",
       "      <td>189.33</td>\n",
       "      <td>180.41</td>\n",
       "      <td>180.48</td>\n",
       "      <td>39557379.0</td>\n",
       "      <td>37.779305</td>\n",
       "      <td>0.000</td>\n",
       "      <td>-44214282.0</td>\n",
       "    </tr>\n",
       "    <tr>\n",
       "      <th>2022-06-10</th>\n",
       "      <td>176.00</td>\n",
       "      <td>176.97</td>\n",
       "      <td>168.69</td>\n",
       "      <td>169.74</td>\n",
       "      <td>46564969.0</td>\n",
       "      <td>26.690066</td>\n",
       "      <td>0.000</td>\n",
       "      <td>-90779251.0</td>\n",
       "    </tr>\n",
       "    <tr>\n",
       "      <th>2022-06-13</th>\n",
       "      <td>160.00</td>\n",
       "      <td>163.12</td>\n",
       "      <td>156.06</td>\n",
       "      <td>156.47</td>\n",
       "      <td>60415340.0</td>\n",
       "      <td>19.193612</td>\n",
       "      <td>182.333</td>\n",
       "      <td>-151194591.0</td>\n",
       "    </tr>\n",
       "    <tr>\n",
       "      <th>2022-06-14</th>\n",
       "      <td>157.31</td>\n",
       "      <td>160.66</td>\n",
       "      <td>154.12</td>\n",
       "      <td>158.36</td>\n",
       "      <td>46967953.0</td>\n",
       "      <td>22.531023</td>\n",
       "      <td>179.497</td>\n",
       "      <td>-104226638.0</td>\n",
       "    </tr>\n",
       "    <tr>\n",
       "      <th>2022-06-15</th>\n",
       "      <td>160.95</td>\n",
       "      <td>168.68</td>\n",
       "      <td>159.26</td>\n",
       "      <td>165.27</td>\n",
       "      <td>56393566.0</td>\n",
       "      <td>33.366701</td>\n",
       "      <td>177.704</td>\n",
       "      <td>-47833072.0</td>\n",
       "    </tr>\n",
       "    <tr>\n",
       "      <th>2022-06-16</th>\n",
       "      <td>158.60</td>\n",
       "      <td>159.42</td>\n",
       "      <td>154.01</td>\n",
       "      <td>156.01</td>\n",
       "      <td>54574871.0</td>\n",
       "      <td>27.762599</td>\n",
       "      <td>173.713</td>\n",
       "      <td>-102407943.0</td>\n",
       "    </tr>\n",
       "    <tr>\n",
       "      <th>2022-06-17</th>\n",
       "      <td>156.48</td>\n",
       "      <td>159.95</td>\n",
       "      <td>153.28</td>\n",
       "      <td>158.80</td>\n",
       "      <td>63033398.0</td>\n",
       "      <td>31.495853</td>\n",
       "      <td>170.873</td>\n",
       "      <td>-39374545.0</td>\n",
       "    </tr>\n",
       "    <tr>\n",
       "      <th>2022-06-21</th>\n",
       "      <td>164.75</td>\n",
       "      <td>170.08</td>\n",
       "      <td>164.07</td>\n",
       "      <td>165.66</td>\n",
       "      <td>48308887.0</td>\n",
       "      <td>39.741894</td>\n",
       "      <td>168.653</td>\n",
       "      <td>8934342.0</td>\n",
       "    </tr>\n",
       "    <tr>\n",
       "      <th>2022-06-22</th>\n",
       "      <td>162.26</td>\n",
       "      <td>166.62</td>\n",
       "      <td>161.80</td>\n",
       "      <td>163.60</td>\n",
       "      <td>43799738.0</td>\n",
       "      <td>38.252808</td>\n",
       "      <td>166.087</td>\n",
       "      <td>-34865396.0</td>\n",
       "    </tr>\n",
       "    <tr>\n",
       "      <th>2022-06-23</th>\n",
       "      <td>165.19</td>\n",
       "      <td>165.85</td>\n",
       "      <td>158.53</td>\n",
       "      <td>162.25</td>\n",
       "      <td>46367961.0</td>\n",
       "      <td>37.267322</td>\n",
       "      <td>163.664</td>\n",
       "      <td>-81233357.0</td>\n",
       "    </tr>\n",
       "    <tr>\n",
       "      <th>2022-06-24</th>\n",
       "      <td>165.00</td>\n",
       "      <td>171.40</td>\n",
       "      <td>163.10</td>\n",
       "      <td>171.26</td>\n",
       "      <td>47215281.0</td>\n",
       "      <td>47.068479</td>\n",
       "      <td>162.742</td>\n",
       "      <td>-34018076.0</td>\n",
       "    </tr>\n",
       "    <tr>\n",
       "      <th>2022-06-27</th>\n",
       "      <td>173.12</td>\n",
       "      <td>173.30</td>\n",
       "      <td>166.26</td>\n",
       "      <td>168.69</td>\n",
       "      <td>42796793.0</td>\n",
       "      <td>44.912977</td>\n",
       "      <td>162.637</td>\n",
       "      <td>-76814869.0</td>\n",
       "    </tr>\n",
       "    <tr>\n",
       "      <th>2022-06-28</th>\n",
       "      <td>169.00</td>\n",
       "      <td>172.02</td>\n",
       "      <td>159.45</td>\n",
       "      <td>159.82</td>\n",
       "      <td>46185941.0</td>\n",
       "      <td>38.380164</td>\n",
       "      <td>162.972</td>\n",
       "      <td>-123000810.0</td>\n",
       "    </tr>\n",
       "  </tbody>\n",
       "</table>\n",
       "</div>"
      ],
      "text/plain": [
       "              Open    High     Low   Close      Volume        RSI      SMA  \\\n",
       "Date                                                                         \n",
       "2022-05-31  189.80  192.00  183.50  186.72  66409953.0   0.000000    0.000   \n",
       "2022-06-01  187.24  190.53  181.22  183.20  54451391.0   0.000000    0.000   \n",
       "2022-06-02  182.92  196.19  181.98  195.92  64865578.0  79.556826    0.000   \n",
       "2022-06-03  190.82  193.32  185.22  187.20  59877871.0  50.119505    0.000   \n",
       "2022-06-06  191.39  193.37  185.64  187.86  42240621.0  51.579862    0.000   \n",
       "2022-06-07  184.72  190.00  181.88  189.26  38891406.0  54.615203    0.000   \n",
       "2022-06-08  187.99  191.80  185.35  186.48  36325246.0  48.159221    0.000   \n",
       "2022-06-09  184.81  189.33  180.41  180.48  39557379.0  37.779305    0.000   \n",
       "2022-06-10  176.00  176.97  168.69  169.74  46564969.0  26.690066    0.000   \n",
       "2022-06-13  160.00  163.12  156.06  156.47  60415340.0  19.193612  182.333   \n",
       "2022-06-14  157.31  160.66  154.12  158.36  46967953.0  22.531023  179.497   \n",
       "2022-06-15  160.95  168.68  159.26  165.27  56393566.0  33.366701  177.704   \n",
       "2022-06-16  158.60  159.42  154.01  156.01  54574871.0  27.762599  173.713   \n",
       "2022-06-17  156.48  159.95  153.28  158.80  63033398.0  31.495853  170.873   \n",
       "2022-06-21  164.75  170.08  164.07  165.66  48308887.0  39.741894  168.653   \n",
       "2022-06-22  162.26  166.62  161.80  163.60  43799738.0  38.252808  166.087   \n",
       "2022-06-23  165.19  165.85  158.53  162.25  46367961.0  37.267322  163.664   \n",
       "2022-06-24  165.00  171.40  163.10  171.26  47215281.0  47.068479  162.742   \n",
       "2022-06-27  173.12  173.30  166.26  168.69  42796793.0  44.912977  162.637   \n",
       "2022-06-28  169.00  172.02  159.45  159.82  46185941.0  38.380164  162.972   \n",
       "\n",
       "                    OBV  \n",
       "Date                     \n",
       "2022-05-31          0.0  \n",
       "2022-06-01  -54451391.0  \n",
       "2022-06-02   10414187.0  \n",
       "2022-06-03  -49463684.0  \n",
       "2022-06-06   -7223063.0  \n",
       "2022-06-07   31668343.0  \n",
       "2022-06-08   -4656903.0  \n",
       "2022-06-09  -44214282.0  \n",
       "2022-06-10  -90779251.0  \n",
       "2022-06-13 -151194591.0  \n",
       "2022-06-14 -104226638.0  \n",
       "2022-06-15  -47833072.0  \n",
       "2022-06-16 -102407943.0  \n",
       "2022-06-17  -39374545.0  \n",
       "2022-06-21    8934342.0  \n",
       "2022-06-22  -34865396.0  \n",
       "2022-06-23  -81233357.0  \n",
       "2022-06-24  -34018076.0  \n",
       "2022-06-27  -76814869.0  \n",
       "2022-06-28 -123000810.0  "
      ]
     },
     "execution_count": 52,
     "metadata": {},
     "output_type": "execute_result"
    }
   ],
   "source": [
    "df.head(20)"
   ]
  },
  {
   "cell_type": "code",
   "execution_count": 53,
   "metadata": {
    "colab": {
     "base_uri": "https://localhost:8080/"
    },
    "id": "2-yvf6HmuQVJ",
    "outputId": "461f5b5c-5af5-42bf-9450-df5c4d3ccbcb"
   },
   "outputs": [],
   "source": [
    "def add_signals(env):\n",
    "    start = env.frame_bound[0] - env.window_size\n",
    "    end = env.frame_bound[1]\n",
    "    prices = env.df.loc[:, 'Low'].to_numpy()[start:end]\n",
    "    signal_features = env.df.loc[:, ['Low', 'Volume','RSI', 'SMA', 'OBV']].to_numpy()[start:end]\n",
    "    return prices, signal_features"
   ]
  },
  {
   "cell_type": "code",
   "execution_count": 54,
   "metadata": {
    "id": "KmxKZ0mbu_XR"
   },
   "outputs": [],
   "source": [
    "class MyCustomEnv(StocksEnv):\n",
    "  _process_data = add_signals\n",
    "\n",
    "#should have had \n",
    "#env2 = MyCustomEnv(df = df, window_size = 10, frame_bound = (19,140)) to take into account the bad values of SMA\n",
    "#as of now have not retrained with this taken into account training takes too long\n",
    "env2 = MyCustomEnv(df = df, window_size = 10, frame_bound = (10,140))"
   ]
  },
  {
   "cell_type": "code",
   "execution_count": 55,
   "metadata": {
    "colab": {
     "base_uri": "https://localhost:8080/"
    },
    "id": "JSqabCVybsaL",
    "outputId": "21695081-a5f2-45c3-fea4-a983734beeaf"
   },
   "outputs": [
    {
     "name": "stderr",
     "output_type": "stream",
     "text": [
      "c:\\Users\\pavle\\AppData\\Local\\Programs\\Python\\Python39\\lib\\site-packages\\stable_baselines3\\common\\vec_env\\patch_gym.py:49: UserWarning: You provided an OpenAI Gym environment. We strongly recommend transitioning to Gymnasium environments. Stable-Baselines3 is automatically wrapping your environments in a compatibility layer, which could potentially cause issues.\n",
      "  warnings.warn(\n"
     ]
    }
   ],
   "source": [
    "env_maker = lambda: env2\n",
    "env = DummyVecEnv([env_maker])\n"
   ]
  },
  {
   "cell_type": "code",
   "execution_count": null,
   "metadata": {
    "colab": {
     "base_uri": "https://localhost:8080/"
    },
    "id": "5Kd1XCHXfr9N",
    "outputId": "6d936242-32ef-4826-b1ea-f05f249766a8"
   },
   "outputs": [],
   "source": [
    "env2.signal_features"
   ]
  },
  {
   "cell_type": "code",
   "execution_count": 23,
   "metadata": {
    "colab": {
     "base_uri": "https://localhost:8080/",
     "height": 708
    },
    "id": "DF7vpS4lfs8r",
    "outputId": "9e349140-0fa6-46f2-d8d6-9c0c7b7a636a"
   },
   "outputs": [
    {
     "data": {
      "text/html": [
       "<div>\n",
       "<style scoped>\n",
       "    .dataframe tbody tr th:only-of-type {\n",
       "        vertical-align: middle;\n",
       "    }\n",
       "\n",
       "    .dataframe tbody tr th {\n",
       "        vertical-align: top;\n",
       "    }\n",
       "\n",
       "    .dataframe thead th {\n",
       "        text-align: right;\n",
       "    }\n",
       "</style>\n",
       "<table border=\"1\" class=\"dataframe\">\n",
       "  <thead>\n",
       "    <tr style=\"text-align: right;\">\n",
       "      <th></th>\n",
       "      <th>Open</th>\n",
       "      <th>High</th>\n",
       "      <th>Low</th>\n",
       "      <th>Close</th>\n",
       "      <th>Volume</th>\n",
       "      <th>RSI</th>\n",
       "      <th>SMA</th>\n",
       "      <th>OBV</th>\n",
       "    </tr>\n",
       "    <tr>\n",
       "      <th>Date</th>\n",
       "      <th></th>\n",
       "      <th></th>\n",
       "      <th></th>\n",
       "      <th></th>\n",
       "      <th></th>\n",
       "      <th></th>\n",
       "      <th></th>\n",
       "      <th></th>\n",
       "    </tr>\n",
       "  </thead>\n",
       "  <tbody>\n",
       "    <tr>\n",
       "      <th>2022-05-31</th>\n",
       "      <td>189.80</td>\n",
       "      <td>192.00</td>\n",
       "      <td>183.50</td>\n",
       "      <td>186.72</td>\n",
       "      <td>66409953.0</td>\n",
       "      <td>0.000000</td>\n",
       "      <td>0.000</td>\n",
       "      <td>0.0</td>\n",
       "    </tr>\n",
       "    <tr>\n",
       "      <th>2022-06-01</th>\n",
       "      <td>187.24</td>\n",
       "      <td>190.53</td>\n",
       "      <td>181.22</td>\n",
       "      <td>183.20</td>\n",
       "      <td>54451391.0</td>\n",
       "      <td>0.000000</td>\n",
       "      <td>0.000</td>\n",
       "      <td>-54451391.0</td>\n",
       "    </tr>\n",
       "    <tr>\n",
       "      <th>2022-06-02</th>\n",
       "      <td>182.92</td>\n",
       "      <td>196.19</td>\n",
       "      <td>181.98</td>\n",
       "      <td>195.92</td>\n",
       "      <td>64865578.0</td>\n",
       "      <td>79.556826</td>\n",
       "      <td>0.000</td>\n",
       "      <td>10414187.0</td>\n",
       "    </tr>\n",
       "    <tr>\n",
       "      <th>2022-06-03</th>\n",
       "      <td>190.82</td>\n",
       "      <td>193.32</td>\n",
       "      <td>185.22</td>\n",
       "      <td>187.20</td>\n",
       "      <td>59877871.0</td>\n",
       "      <td>50.119505</td>\n",
       "      <td>0.000</td>\n",
       "      <td>-49463684.0</td>\n",
       "    </tr>\n",
       "    <tr>\n",
       "      <th>2022-06-06</th>\n",
       "      <td>191.39</td>\n",
       "      <td>193.37</td>\n",
       "      <td>185.64</td>\n",
       "      <td>187.86</td>\n",
       "      <td>42240621.0</td>\n",
       "      <td>51.579862</td>\n",
       "      <td>0.000</td>\n",
       "      <td>-7223063.0</td>\n",
       "    </tr>\n",
       "    <tr>\n",
       "      <th>2022-06-07</th>\n",
       "      <td>184.72</td>\n",
       "      <td>190.00</td>\n",
       "      <td>181.88</td>\n",
       "      <td>189.26</td>\n",
       "      <td>38891406.0</td>\n",
       "      <td>54.615203</td>\n",
       "      <td>0.000</td>\n",
       "      <td>31668343.0</td>\n",
       "    </tr>\n",
       "    <tr>\n",
       "      <th>2022-06-08</th>\n",
       "      <td>187.99</td>\n",
       "      <td>191.80</td>\n",
       "      <td>185.35</td>\n",
       "      <td>186.48</td>\n",
       "      <td>36325246.0</td>\n",
       "      <td>48.159221</td>\n",
       "      <td>0.000</td>\n",
       "      <td>-4656903.0</td>\n",
       "    </tr>\n",
       "    <tr>\n",
       "      <th>2022-06-09</th>\n",
       "      <td>184.81</td>\n",
       "      <td>189.33</td>\n",
       "      <td>180.41</td>\n",
       "      <td>180.48</td>\n",
       "      <td>39557379.0</td>\n",
       "      <td>37.779305</td>\n",
       "      <td>0.000</td>\n",
       "      <td>-44214282.0</td>\n",
       "    </tr>\n",
       "    <tr>\n",
       "      <th>2022-06-10</th>\n",
       "      <td>176.00</td>\n",
       "      <td>176.97</td>\n",
       "      <td>168.69</td>\n",
       "      <td>169.74</td>\n",
       "      <td>46564969.0</td>\n",
       "      <td>26.690066</td>\n",
       "      <td>0.000</td>\n",
       "      <td>-90779251.0</td>\n",
       "    </tr>\n",
       "    <tr>\n",
       "      <th>2022-06-13</th>\n",
       "      <td>160.00</td>\n",
       "      <td>163.12</td>\n",
       "      <td>156.06</td>\n",
       "      <td>156.47</td>\n",
       "      <td>60415340.0</td>\n",
       "      <td>19.193612</td>\n",
       "      <td>182.333</td>\n",
       "      <td>-151194591.0</td>\n",
       "    </tr>\n",
       "    <tr>\n",
       "      <th>2022-06-14</th>\n",
       "      <td>157.31</td>\n",
       "      <td>160.66</td>\n",
       "      <td>154.12</td>\n",
       "      <td>158.36</td>\n",
       "      <td>46967953.0</td>\n",
       "      <td>22.531023</td>\n",
       "      <td>179.497</td>\n",
       "      <td>-104226638.0</td>\n",
       "    </tr>\n",
       "    <tr>\n",
       "      <th>2022-06-15</th>\n",
       "      <td>160.95</td>\n",
       "      <td>168.68</td>\n",
       "      <td>159.26</td>\n",
       "      <td>165.27</td>\n",
       "      <td>56393566.0</td>\n",
       "      <td>33.366701</td>\n",
       "      <td>177.704</td>\n",
       "      <td>-47833072.0</td>\n",
       "    </tr>\n",
       "    <tr>\n",
       "      <th>2022-06-16</th>\n",
       "      <td>158.60</td>\n",
       "      <td>159.42</td>\n",
       "      <td>154.01</td>\n",
       "      <td>156.01</td>\n",
       "      <td>54574871.0</td>\n",
       "      <td>27.762599</td>\n",
       "      <td>173.713</td>\n",
       "      <td>-102407943.0</td>\n",
       "    </tr>\n",
       "    <tr>\n",
       "      <th>2022-06-17</th>\n",
       "      <td>156.48</td>\n",
       "      <td>159.95</td>\n",
       "      <td>153.28</td>\n",
       "      <td>158.80</td>\n",
       "      <td>63033398.0</td>\n",
       "      <td>31.495853</td>\n",
       "      <td>170.873</td>\n",
       "      <td>-39374545.0</td>\n",
       "    </tr>\n",
       "    <tr>\n",
       "      <th>2022-06-21</th>\n",
       "      <td>164.75</td>\n",
       "      <td>170.08</td>\n",
       "      <td>164.07</td>\n",
       "      <td>165.66</td>\n",
       "      <td>48308887.0</td>\n",
       "      <td>39.741894</td>\n",
       "      <td>168.653</td>\n",
       "      <td>8934342.0</td>\n",
       "    </tr>\n",
       "    <tr>\n",
       "      <th>2022-06-22</th>\n",
       "      <td>162.26</td>\n",
       "      <td>166.62</td>\n",
       "      <td>161.80</td>\n",
       "      <td>163.60</td>\n",
       "      <td>43799738.0</td>\n",
       "      <td>38.252808</td>\n",
       "      <td>166.087</td>\n",
       "      <td>-34865396.0</td>\n",
       "    </tr>\n",
       "    <tr>\n",
       "      <th>2022-06-23</th>\n",
       "      <td>165.19</td>\n",
       "      <td>165.85</td>\n",
       "      <td>158.53</td>\n",
       "      <td>162.25</td>\n",
       "      <td>46367961.0</td>\n",
       "      <td>37.267322</td>\n",
       "      <td>163.664</td>\n",
       "      <td>-81233357.0</td>\n",
       "    </tr>\n",
       "    <tr>\n",
       "      <th>2022-06-24</th>\n",
       "      <td>165.00</td>\n",
       "      <td>171.40</td>\n",
       "      <td>163.10</td>\n",
       "      <td>171.26</td>\n",
       "      <td>47215281.0</td>\n",
       "      <td>47.068479</td>\n",
       "      <td>162.742</td>\n",
       "      <td>-34018076.0</td>\n",
       "    </tr>\n",
       "    <tr>\n",
       "      <th>2022-06-27</th>\n",
       "      <td>173.12</td>\n",
       "      <td>173.30</td>\n",
       "      <td>166.26</td>\n",
       "      <td>168.69</td>\n",
       "      <td>42796793.0</td>\n",
       "      <td>44.912977</td>\n",
       "      <td>162.637</td>\n",
       "      <td>-76814869.0</td>\n",
       "    </tr>\n",
       "    <tr>\n",
       "      <th>2022-06-28</th>\n",
       "      <td>169.00</td>\n",
       "      <td>172.02</td>\n",
       "      <td>159.45</td>\n",
       "      <td>159.82</td>\n",
       "      <td>46185941.0</td>\n",
       "      <td>38.380164</td>\n",
       "      <td>162.972</td>\n",
       "      <td>-123000810.0</td>\n",
       "    </tr>\n",
       "  </tbody>\n",
       "</table>\n",
       "</div>"
      ],
      "text/plain": [
       "              Open    High     Low   Close      Volume        RSI      SMA  \\\n",
       "Date                                                                         \n",
       "2022-05-31  189.80  192.00  183.50  186.72  66409953.0   0.000000    0.000   \n",
       "2022-06-01  187.24  190.53  181.22  183.20  54451391.0   0.000000    0.000   \n",
       "2022-06-02  182.92  196.19  181.98  195.92  64865578.0  79.556826    0.000   \n",
       "2022-06-03  190.82  193.32  185.22  187.20  59877871.0  50.119505    0.000   \n",
       "2022-06-06  191.39  193.37  185.64  187.86  42240621.0  51.579862    0.000   \n",
       "2022-06-07  184.72  190.00  181.88  189.26  38891406.0  54.615203    0.000   \n",
       "2022-06-08  187.99  191.80  185.35  186.48  36325246.0  48.159221    0.000   \n",
       "2022-06-09  184.81  189.33  180.41  180.48  39557379.0  37.779305    0.000   \n",
       "2022-06-10  176.00  176.97  168.69  169.74  46564969.0  26.690066    0.000   \n",
       "2022-06-13  160.00  163.12  156.06  156.47  60415340.0  19.193612  182.333   \n",
       "2022-06-14  157.31  160.66  154.12  158.36  46967953.0  22.531023  179.497   \n",
       "2022-06-15  160.95  168.68  159.26  165.27  56393566.0  33.366701  177.704   \n",
       "2022-06-16  158.60  159.42  154.01  156.01  54574871.0  27.762599  173.713   \n",
       "2022-06-17  156.48  159.95  153.28  158.80  63033398.0  31.495853  170.873   \n",
       "2022-06-21  164.75  170.08  164.07  165.66  48308887.0  39.741894  168.653   \n",
       "2022-06-22  162.26  166.62  161.80  163.60  43799738.0  38.252808  166.087   \n",
       "2022-06-23  165.19  165.85  158.53  162.25  46367961.0  37.267322  163.664   \n",
       "2022-06-24  165.00  171.40  163.10  171.26  47215281.0  47.068479  162.742   \n",
       "2022-06-27  173.12  173.30  166.26  168.69  42796793.0  44.912977  162.637   \n",
       "2022-06-28  169.00  172.02  159.45  159.82  46185941.0  38.380164  162.972   \n",
       "\n",
       "                    OBV  \n",
       "Date                     \n",
       "2022-05-31          0.0  \n",
       "2022-06-01  -54451391.0  \n",
       "2022-06-02   10414187.0  \n",
       "2022-06-03  -49463684.0  \n",
       "2022-06-06   -7223063.0  \n",
       "2022-06-07   31668343.0  \n",
       "2022-06-08   -4656903.0  \n",
       "2022-06-09  -44214282.0  \n",
       "2022-06-10  -90779251.0  \n",
       "2022-06-13 -151194591.0  \n",
       "2022-06-14 -104226638.0  \n",
       "2022-06-15  -47833072.0  \n",
       "2022-06-16 -102407943.0  \n",
       "2022-06-17  -39374545.0  \n",
       "2022-06-21    8934342.0  \n",
       "2022-06-22  -34865396.0  \n",
       "2022-06-23  -81233357.0  \n",
       "2022-06-24  -34018076.0  \n",
       "2022-06-27  -76814869.0  \n",
       "2022-06-28 -123000810.0  "
      ]
     },
     "execution_count": 23,
     "metadata": {},
     "output_type": "execute_result"
    }
   ],
   "source": [
    "df.head(20)"
   ]
  },
  {
   "attachments": {},
   "cell_type": "markdown",
   "metadata": {
    "id": "WwKhRUiMf405"
   },
   "source": [
    "# DQN\n"
   ]
  },
  {
   "cell_type": "code",
   "execution_count": 24,
   "metadata": {
    "colab": {
     "base_uri": "https://localhost:8080/"
    },
    "id": "QRyIPknjeyen",
    "outputId": "282276d9-c676-4b3a-fef4-a04937bfc64e"
   },
   "outputs": [
    {
     "name": "stdout",
     "output_type": "stream",
     "text": [
      "Using cpu device\n"
     ]
    }
   ],
   "source": [
    "model = DQN(\"MlpPolicy\", env, verbose=1, learning_rate = 0.0002, learning_starts=950, gamma = 0.95)"
   ]
  },
  {
   "cell_type": "code",
   "execution_count": null,
   "metadata": {
    "colab": {
     "base_uri": "https://localhost:8080/"
    },
    "id": "he4cLM_je5zK",
    "outputId": "9047d5e5-674d-4feb-c480-309172b93ee4"
   },
   "outputs": [],
   "source": [
    "model.learn(total_timesteps=10000000)"
   ]
  },
  {
   "cell_type": "code",
   "execution_count": 26,
   "metadata": {
    "id": "FiNc3DDQgggk"
   },
   "outputs": [],
   "source": [
    "model.save(\"DQN_Trading\")  "
   ]
  },
  {
   "attachments": {},
   "cell_type": "markdown",
   "metadata": {
    "id": "h_pL4_m0f9gR"
   },
   "source": [
    "# A2C"
   ]
  },
  {
   "cell_type": "code",
   "execution_count": null,
   "metadata": {
    "colab": {
     "base_uri": "https://localhost:8080/"
    },
    "id": "0ky32JVZfqYB",
    "outputId": "c9ddb8f6-025b-489b-8570-4f7fa24cfed8"
   },
   "outputs": [],
   "source": [
    "model2 = A2C(\"MlpPolicy\", env, verbose=1)\n",
    "model2.learn(total_timesteps=1000000)"
   ]
  },
  {
   "cell_type": "code",
   "execution_count": null,
   "metadata": {
    "id": "rHPHKh0Jtn6B"
   },
   "outputs": [],
   "source": [
    "model2.save(\"A2C_Trading\")"
   ]
  },
  {
   "attachments": {},
   "cell_type": "markdown",
   "metadata": {
    "id": "UOS7mLvPso4j"
   },
   "source": [
    "# Comparison"
   ]
  },
  {
   "attachments": {},
   "cell_type": "markdown",
   "metadata": {
    "id": "bV8I8IuGlImC"
   },
   "source": [
    "DQN"
   ]
  },
  {
   "cell_type": "code",
   "execution_count": 56,
   "metadata": {},
   "outputs": [],
   "source": [
    "env = MyCustomEnv(df = df, frame_bound = (150,200), window_size = 10)  "
   ]
  },
  {
   "cell_type": "code",
   "execution_count": 30,
   "metadata": {
    "colab": {
     "base_uri": "https://localhost:8080/"
    },
    "id": "LmSG6P0Esqht",
    "outputId": "617407b4-37e5-4d34-d5be-fe5f3789aaf2"
   },
   "outputs": [
    {
     "name": "stdout",
     "output_type": "stream",
     "text": [
      "info {'total_reward': 58.77000000000001, 'total_profit': 1.253547230295682, 'position': 1}\n"
     ]
    }
   ],
   "source": [
    "obs = env.reset()\n",
    "model = DQN.load(\"DQN_Trading\")\n",
    "while True:\n",
    "    action, _ = model.predict(obs, deterministic=True)\n",
    "    obs, reward, done, info = env.step(action)\n",
    "    if done:\n",
    "        print(\"info\", info)\n",
    "        break"
   ]
  },
  {
   "cell_type": "code",
   "execution_count": 31,
   "metadata": {
    "colab": {
     "base_uri": "https://localhost:8080/",
     "height": 533
    },
    "id": "gOqnuCV8sv4K",
    "outputId": "bc0c31c9-cd45-4627-d754-5069dca905ce"
   },
   "outputs": [
    {
     "data": {
      "image/png": "[encoded data removed]",
      "text/plain": [
       "<Figure size 640x480 with 1 Axes>"
      ]
     },
     "metadata": {},
     "output_type": "display_data"
    }
   ],
   "source": [
    "plt.cla()\n",
    "env.render_all()\n",
    "plt.show()\n"
   ]
  },
  {
   "cell_type": "code",
   "execution_count": 57,
   "metadata": {},
   "outputs": [],
   "source": [
    "SMA_VALUES = df['SMA'].values\n",
    "SMA_VALUES = SMA_VALUES[150:211]\n",
    "\n",
    "#OBV_VALUES = df['OBV'].values\n",
    "#OBV_VALUES = OBV_VALUES[150:211]\n",
    "\n",
    "RSI_VALUES = df['RSI'].values\n",
    "RSI_VALUES = RSI_VALUES[150:211]"
   ]
  },
  {
   "cell_type": "code",
   "execution_count": 33,
   "metadata": {},
   "outputs": [
    {
     "data": {
      "image/png": "[encoded data removed]",
      "text/plain": [
       "<Figure size 640x480 with 1 Axes>"
      ]
     },
     "metadata": {},
     "output_type": "display_data"
    }
   ],
   "source": [
    "env.render_all()\n",
    "fig, ax = plt.gcf(), plt.gca()\n",
    "\n",
    "# Extract the original x-axis limits\n",
    "x_start, x_end = ax.get_xlim()\n",
    "\n",
    "# Calculate the range for the custom indicator\n",
    "range_start = max(0, int(x_start))\n",
    "range_end = min(len(SMA_VALUES), int(x_end))\n",
    "\n",
    "# Create the range of x-axis values for the custom indicator\n",
    "timestamps = range(range_start, range_end)\n",
    "\n",
    "# Extract the corresponding custom indicator values\n",
    "\n",
    "# Plot the custom indicator overlay\n",
    "plt.plot(timestamps, SMA_VALUES, label='SMA')\n",
    "plt.plot(timestamps, RSI_VALUES, label='RSI')\n",
    "#plt.plot(timestamps, OBV_VALUES, label='OBV')\n",
    "plt.xlabel('Timestamp')\n",
    "plt.ylabel('Price')\n",
    "plt.legend()\n",
    "\n",
    "plt.show()"
   ]
  },
  {
   "attachments": {},
   "cell_type": "markdown",
   "metadata": {
    "id": "pB6a6FR2lHIC"
   },
   "source": [
    "A2C"
   ]
  },
  {
   "cell_type": "code",
   "execution_count": 130,
   "metadata": {
    "colab": {
     "base_uri": "https://localhost:8080/"
    },
    "id": "etqLzKq6s-6L",
    "outputId": "8f7f6ab2-56ff-4f0d-8cc5-6ce317f4d7a9"
   },
   "outputs": [
    {
     "name": "stdout",
     "output_type": "stream",
     "text": [
      "info {'total_reward': 130.68, 'total_profit': 1.6820419299082325, 'position': 0}\n"
     ]
    }
   ],
   "source": [
    "env = MyCustomEnv(df = df, frame_bound = (150, 200), window_size = 10)  \n",
    "obs = env.reset()\n",
    "model2 = A2C.load(\"A2C_Trading\")\n",
    "while True:\n",
    "    obs = obs[np.newaxis, ...]\n",
    "    action,_ = model2.predict(obs)\n",
    "    obs, rewards, done, info = env.step(action)\n",
    "\n",
    "    if done:\n",
    "        print(\"info\", info)\n",
    "        break"
   ]
  },
  {
   "attachments": {},
   "cell_type": "markdown",
   "metadata": {
    "id": "fn4ZQTn_tECU"
   },
   "source": [
    "A2C Results"
   ]
  },
  {
   "cell_type": "code",
   "execution_count": 131,
   "metadata": {
    "colab": {
     "base_uri": "https://localhost:8080/",
     "height": 533
    },
    "id": "ZCNzVA1WtFUe",
    "outputId": "dd17daa5-a8df-46b8-bf47-240660fb44c7"
   },
   "outputs": [
    {
     "data": {
      "image/png": "[encoded data removed]",
      "text/plain": [
       "<Figure size 640x480 with 1 Axes>"
      ]
     },
     "metadata": {},
     "output_type": "display_data"
    }
   ],
   "source": [
    "plt.cla()\n",
    "env.render_all()\n",
    "plt.show()"
   ]
  },
  {
   "cell_type": "code",
   "execution_count": 132,
   "metadata": {
    "collapsed": false
   },
   "outputs": [
    {
     "data": {
      "image/png": "[encoded data removed]",
      "text/plain": [
       "<Figure size 640x480 with 1 Axes>"
      ]
     },
     "metadata": {},
     "output_type": "display_data"
    }
   ],
   "source": [
    "env.render_all()\n",
    "fig, ax = plt.gcf(), plt.gca()\n",
    "\n",
    "# Extract the original x-axis limits\n",
    "x_start, x_end = ax.get_xlim()\n",
    "\n",
    "# Calculate the range for the custom indicator\n",
    "range_start = max(0, int(x_start))\n",
    "range_end = min(len(SMA_VALUES), int(x_end))\n",
    "\n",
    "# Create the range of x-axis values for the custom indicator\n",
    "timestamps = range(range_start, range_end)\n",
    "\n",
    "# Extract the corresponding custom indicator values\n",
    "\n",
    "# Plot the custom indicator overlay\n",
    "plt.plot(timestamps, SMA_VALUES, label='SMA')\n",
    "plt.plot(timestamps, RSI_VALUES, label='RSI')\n",
    "#plt.plot(timestamps, OBV_VALUES, label='OBV')\n",
    "plt.xlabel('Timestamp')\n",
    "plt.ylabel('Price')\n",
    "plt.legend()\n",
    "\n",
    "plt.show()"
   ]
  },
  {
   "cell_type": "markdown",
   "metadata": {},
   "source": [
    "Finding Sharpe Ratio For Both Algorithms\n",
    "\n",
    "Chose Risk Free Rate as 1 month Treasury Rate from this link on May 30th, 2023: https://ycharts.com/indicators/1_month_treasury_rate\n",
    "\n",
    "Sharpe Ratio calculation from this link: https://ycharts.com/indicators/1_month_treasury_rate"
   ]
  },
  {
   "cell_type": "code",
   "execution_count": 60,
   "metadata": {},
   "outputs": [
    {
     "name": "stdout",
     "output_type": "stream",
     "text": [
      "The Sharpe Ratio over a 50 day period for DQN and A2C is 0.7 and 1.83 respectively\n"
     ]
    }
   ],
   "source": [
    "risk_free_rate = 5.31\n",
    "closing_prices = df['Close'].values\n",
    "closing_prices = closing_prices[150:211]\n",
    "\n",
    "#DQN\n",
    "DQN_Return = 30\n",
    "DQN_STD = np.std(closing_prices)\n",
    "DQN_SHARPE = round((DQN_Return - risk_free_rate) / DQN_STD, 2)\n",
    "\n",
    "#A2C\n",
    "A2C_Return = 70\n",
    "A2C_STD = np.std(closing_prices)\n",
    "A2C_SHARPE = round((A2C_Return - risk_free_rate) / A2C_STD, 2)\n",
    "\n",
    "\n",
    "#Results\n",
    "\n",
    "print(f'The Sharpe Ratio over a 50 day period for DQN and A2C is {DQN_SHARPE} and {A2C_SHARPE} respectively')"
   ]
  }
 ],
 "metadata": {
  "colab": {
   "provenance": []
  },
  "kernelspec": {
   "display_name": "Python 3",
   "name": "python3"
  },
  "language_info": {
   "codemirror_mode": {
    "name": "ipython",
    "version": 3
   },
   "file_extension": ".py",
   "mimetype": "text/x-python",
   "name": "python",
   "nbconvert_exporter": "python",
   "pygments_lexer": "ipython3",
   "version": "3.9.2"
  }
 },
 "nbformat": 4,
 "nbformat_minor": 0
}
